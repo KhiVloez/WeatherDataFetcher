{
 "cells": [
  {
   "cell_type": "code",
   "execution_count": 32,
   "id": "53e8fcce-96d3-4925-a8e6-ceef993f3b98",
   "metadata": {},
   "outputs": [
    {
     "name": "stdout",
     "output_type": "stream",
     "text": [
      "Data for London has succesfully been fetched\n",
      "Data for New York has succesfully been fetched\n",
      "Data for Chicago has succesfully been fetched\n",
      "Data saved to responses.txt!\n"
     ]
    }
   ],
   "source": [
    "import requests\n",
    "def read_cities(file_path):\n",
    "     with open(file_path, 'r') as file:\n",
    "        return [line.strip() for line in file.readlines()]\n",
    "\n",
    "def fetchapi(city):\n",
    "    api = f\"http://api.openweathermap.org/data/2.5/weather?q={city}&appid=6bba3ef70662d53116ad8cef874a6460\"\n",
    "    \n",
    "    try:\n",
    "        response = requests.get(api)\n",
    "        if response.status_code == 200:\n",
    "                print(f\"Data for {city} has succesfully been fetched\")\n",
    "                return response.json()\n",
    "        else:\n",
    "            return {\"error\": f\"Failed to fetch data for {city}\"}\n",
    "    except Exception as e:\n",
    "        return {\"error\": str(e)}\n",
    "        \n",
    "            \n",
    "def save_responses(responses, output_file):\n",
    "    with open(output_file, 'w') as file:\n",
    "        for response in responses:\n",
    "            file.write(f\"{response}\\n\\n\")\n",
    "\n",
    "def main():\n",
    "    cities = read_cities(\"cities.txt\")\n",
    "    responses = []\n",
    "    for cities in cities:\n",
    "        data=fetchapi(cities)\n",
    "        responses.append(data)\n",
    "        \n",
    "    save_responses(responses, \"responses.txt\")\n",
    "    print(\"Data saved to responses.txt!\") \n",
    "    \n",
    "main() \n"
   ]
  },
  {
   "cell_type": "code",
   "execution_count": null,
   "id": "f21d3dfc-41f0-4de1-93d6-214e6f1d8915",
   "metadata": {},
   "outputs": [],
   "source": []
  }
 ],
 "metadata": {
  "kernelspec": {
   "display_name": "Python 3",
   "language": "python",
   "name": "python3"
  },
  "language_info": {
   "codemirror_mode": {
    "name": "ipython",
    "version": 3
   },
   "file_extension": ".py",
   "mimetype": "text/x-python",
   "name": "python",
   "nbconvert_exporter": "python",
   "pygments_lexer": "ipython3",
   "version": "3.13.1"
  }
 },
 "nbformat": 4,
 "nbformat_minor": 5
}
